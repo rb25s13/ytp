{
 "cells": [
  {
   "cell_type": "code",
   "execution_count": 2,
   "metadata": {},
   "outputs": [],
   "source": [
    "import pandas as pd\n",
    "import requests\n",
    "from selenium import webdriver\n",
    "from selenium.webdriver.common.keys import Keys\n",
    "import time"
   ]
  },
  {
   "cell_type": "code",
   "execution_count": 26,
   "metadata": {},
   "outputs": [
    {
     "data": {
      "text/html": [
       "<div>\n",
       "<style scoped>\n",
       "    .dataframe tbody tr th:only-of-type {\n",
       "        vertical-align: middle;\n",
       "    }\n",
       "\n",
       "    .dataframe tbody tr th {\n",
       "        vertical-align: top;\n",
       "    }\n",
       "\n",
       "    .dataframe thead th {\n",
       "        text-align: right;\n",
       "    }\n",
       "</style>\n",
       "<table border=\"1\" class=\"dataframe\">\n",
       "  <thead>\n",
       "    <tr style=\"text-align: right;\">\n",
       "      <th></th>\n",
       "      <th>link</th>\n",
       "    </tr>\n",
       "  </thead>\n",
       "  <tbody>\n",
       "    <tr>\n",
       "      <th>0</th>\n",
       "      <td>https://www.youtube.com/watch?v=08aQVLAxdvQ&amp;li...</td>\n",
       "    </tr>\n",
       "    <tr>\n",
       "      <th>1</th>\n",
       "      <td>https://www.youtube.com/watch?v=8XM9VncUS4w&amp;li...</td>\n",
       "    </tr>\n",
       "    <tr>\n",
       "      <th>2</th>\n",
       "      <td>https://www.youtube.com/watch?v=2qNBuJJsrtw&amp;li...</td>\n",
       "    </tr>\n",
       "    <tr>\n",
       "      <th>3</th>\n",
       "      <td>https://www.youtube.com/watch?v=oTJBeN_pzJA&amp;li...</td>\n",
       "    </tr>\n",
       "    <tr>\n",
       "      <th>4</th>\n",
       "      <td>https://www.youtube.com/watch?v=6jTtre26kbs&amp;li...</td>\n",
       "    </tr>\n",
       "    <tr>\n",
       "      <th>5</th>\n",
       "      <td>https://www.youtube.com/watch?v=o-o1UT6dIMU&amp;li...</td>\n",
       "    </tr>\n",
       "    <tr>\n",
       "      <th>6</th>\n",
       "      <td>https://www.youtube.com/watch?v=qKLl7Nwxfeg&amp;li...</td>\n",
       "    </tr>\n",
       "    <tr>\n",
       "      <th>7</th>\n",
       "      <td>https://www.youtube.com/watch?v=WBCRzqoD3_I&amp;li...</td>\n",
       "    </tr>\n",
       "    <tr>\n",
       "      <th>8</th>\n",
       "      <td>https://www.youtube.com/watch?v=2r20BFS_2yA&amp;li...</td>\n",
       "    </tr>\n",
       "    <tr>\n",
       "      <th>9</th>\n",
       "      <td>https://www.youtube.com/watch?v=qCWoPMyhSrM&amp;li...</td>\n",
       "    </tr>\n",
       "  </tbody>\n",
       "</table>\n",
       "</div>"
      ],
      "text/plain": [
       "                                                link\n",
       "0  https://www.youtube.com/watch?v=08aQVLAxdvQ&li...\n",
       "1  https://www.youtube.com/watch?v=8XM9VncUS4w&li...\n",
       "2  https://www.youtube.com/watch?v=2qNBuJJsrtw&li...\n",
       "3  https://www.youtube.com/watch?v=oTJBeN_pzJA&li...\n",
       "4  https://www.youtube.com/watch?v=6jTtre26kbs&li...\n",
       "5  https://www.youtube.com/watch?v=o-o1UT6dIMU&li...\n",
       "6  https://www.youtube.com/watch?v=qKLl7Nwxfeg&li...\n",
       "7  https://www.youtube.com/watch?v=WBCRzqoD3_I&li...\n",
       "8  https://www.youtube.com/watch?v=2r20BFS_2yA&li...\n",
       "9  https://www.youtube.com/watch?v=qCWoPMyhSrM&li..."
      ]
     },
     "execution_count": 26,
     "metadata": {},
     "output_type": "execute_result"
    }
   ],
   "source": [
    "df = pd.read_csv('playlist.csv') # from get_links.py\n",
    "df = df.head(10) # test data set\n",
    "df = df.rename(columns={\"0\": \"link\"})\n",
    "df"
   ]
  },
  {
   "cell_type": "code",
   "execution_count": 27,
   "metadata": {},
   "outputs": [
    {
     "name": "stderr",
     "output_type": "stream",
     "text": [
      "C:\\Users\\Mastermind\\anaconda3\\envs\\PyEnv\\lib\\site-packages\\ipykernel_launcher.py:9: DeprecationWarning: use options instead of chrome_options\n",
      "  if __name__ == '__main__':\n"
     ]
    }
   ],
   "source": [
    "for index, row in df.iterrows():\n",
    "    options = webdriver.ChromeOptions()\n",
    "    options.add_argument(\"--start-maximized\")\n",
    "    options.add_argument(\"--headless\")\n",
    "    prefs = {\"profile.default_content_settings.popups\": 0,\n",
    "                \"download.default_directory\": r\"F:\\Downloads\\\\\", # IMPORTANT - ENDING SLASH V IMPORTANT\n",
    "                \"directory_upgrade\": True}\n",
    "    options.add_experimental_option(\"prefs\", prefs)\n",
    "    driver = webdriver.Chrome(executable_path='C:\\Program Files (x86)\\chromedriver_win32\\chromedriver.exe', chrome_options=options)\n",
    "    driver.get('https://yt5s.com/en14/youtube-to-mp3')\n",
    "\n",
    "    inputElement = driver.find_element_by_class_name(\"search__input\")\n",
    "    inputElement.send_keys(row['link'])\n",
    "    inputElement.send_keys(Keys.ENTER)\n",
    "\n",
    "    time.sleep(3)\n",
    "\n",
    "    convertBtn = driver.find_elements_by_xpath('//*[@id=\"btn-action\"]')[0]\n",
    "    convertBtn.click()\n",
    "\n",
    "    time.sleep(2)\n",
    "\n",
    "    dlBtn = driver.find_elements_by_xpath('//*[@id=\"asuccess\"]')[0]\n",
    "    time.sleep(1)\n",
    "    dlBtn.click()\n",
    "\n",
    "    time.sleep(20)\n",
    "\n",
    "    driver.quit()"
   ]
  },
  {
   "cell_type": "code",
   "execution_count": 19,
   "metadata": {},
   "outputs": [],
   "source": [
    "## test on single link\n",
    "\n",
    "driver = webdriver.Chrome(executable_path='C:\\Program Files (x86)\\chromedriver_win32\\chromedriver.exe')\n",
    "driver.get('https://yt5s.com/en14/youtube-to-mp3')\n",
    "\n",
    "inputElement = driver.find_element_by_class_name(\"search__input\")\n",
    "inputElement.send_keys('https://www.youtube.com/watch?v=MArxlKhJipE&list=LM')\n",
    "\n",
    "inputElement.send_keys(Keys.ENTER)\n",
    "time.sleep(3)\n",
    "inputElement2 = driver.find_elements_by_xpath('//*[@id=\"btn-action\"]')[0]\n",
    "inputElement2.click()\n",
    "time.sleep(2)\n",
    "inputElement3 = driver.find_elements_by_xpath('//*[@id=\"asuccess\"]')[0]\n",
    "time.sleep(1)\n",
    "inputElement3.click()\n",
    "time.sleep(2)\n",
    "\n",
    "\n",
    "# Close the browser after scraping\n",
    "driver.quit()"
   ]
  },
  {
   "cell_type": "code",
   "execution_count": null,
   "metadata": {},
   "outputs": [],
   "source": []
  }
 ],
 "metadata": {
  "kernelspec": {
   "display_name": "Python 3",
   "language": "python",
   "name": "python3"
  },
  "language_info": {
   "codemirror_mode": {
    "name": "ipython",
    "version": 3
   },
   "file_extension": ".py",
   "mimetype": "text/x-python",
   "name": "python",
   "nbconvert_exporter": "python",
   "pygments_lexer": "ipython3",
   "version": "3.6.10"
  }
 },
 "nbformat": 4,
 "nbformat_minor": 4
}
