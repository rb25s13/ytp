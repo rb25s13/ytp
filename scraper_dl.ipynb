{
 "cells": [
  {
   "cell_type": "code",
   "execution_count": 2,
   "metadata": {},
   "outputs": [],
   "source": [
    "import pandas as pd\n",
    "import requests\n",
    "from selenium import webdriver\n",
    "from selenium.webdriver.common.keys import Keys\n",
    "from selenium.webdriver.chrome.options import Options\n",
    "import time"
   ]
  },
  {
   "cell_type": "code",
   "execution_count": null,
   "metadata": {},
   "outputs": [],
   "source": [
    "df = pd.read_csv('./resources/playlist.csv') # from get_links.py\n",
    "# df = pd.read_csv('./resources/errors.csv') # errors \n",
    "# df = pd.read_csv('./resources/error_list.csv') # from get_links.py\n",
    "# df = df.rename(columns={\"0\": \"link\"})\n",
    "# df = df[df.index > 1187] # test data set\n",
    "# df = df.head(10) # test data set\n",
    "\n",
    "df"
   ]
  },
  {
   "cell_type": "code",
   "execution_count": null,
   "metadata": {},
   "outputs": [],
   "source": [
    "error_list = []\n",
    "title_list = []\n",
    "artist_album_list = []\n",
    "\n",
    "suc_count=1\n",
    "err_count=0\n",
    "\n",
    "for index, row in df.iterrows():\n",
    "    options = Options()\n",
    "    options.add_argument(\"--headless\")\n",
    "    prefs = {\"profile.default_content_settings.popups\": 0,\n",
    "                \"download.default_directory\": r\"F:\\Downloads\\\\\", # IMPORTANT - ENDING SLASH\n",
    "                \"directory_upgrade\": True}\n",
    "    options.add_experimental_option(\"prefs\", prefs)\n",
    "    driver = webdriver.Chrome(executable_path='C:\\Program Files (x86)\\chromedriver_win32\\chromedriver.exe', options=options)\n",
    "    driver.get('https://yt5s.com/en14/youtube-to-mp3')\n",
    "\n",
    "    input_element = driver.find_element_by_class_name(\"search__input\")\n",
    "    input_element.send_keys(row['link'])\n",
    "    input_element.send_keys(Keys.ENTER)\n",
    "\n",
    "    time.sleep(3)\n",
    "\n",
    "    try:\n",
    "        convert_btn = driver.find_elements_by_xpath('//*[@id=\"btn-action\"]')[0]\n",
    "        convert_btn.click()\n",
    "        time.sleep(3)\n",
    "        dl_btn = driver.find_elements_by_xpath('//*[@id=\"asuccess\"]')[0]\n",
    "        time.sleep(2)\n",
    "        dl_btn.click()\n",
    "        song_title = driver.find_elements_by_xpath('//*[@id=\"search-result\"]/div/div/div/div/h3')\n",
    "        title_list.append(song_title[0].text)\n",
    "        artist_album = driver.find_elements_by_xpath('//*[@id=\"search-result\"]/div/div/div/div/p[1]')\n",
    "        artist_album_list.append(artist_album[0].text)\n",
    "        time.sleep(1)\n",
    "        print(f'success - {suc_count} - {song_title[0].text} - {artist_album[0].text}')\n",
    "        suc_count+=1\n",
    "    except Exception as e:\n",
    "        error_list.append(row['link'])\n",
    "        print(f'error - check err_df - row {err_count} - {e}')\n",
    "        err_count+=1\n",
    "        pass\n",
    "\n",
    "time.sleep(20)\n",
    "driver.close()\n",
    "err_df = pd.DataFrame(error_list)\n",
    "err_df.to_csv('./resources/error_list.csv', index=False)\n",
    "data_df = pd.DataFrame({'title':title_list,\n",
    "                        'artistAlbum':artist_album_list})\n",
    "data_df.to_csv('./resources/data_list.csv', index=False)"
   ]
  },
  {
   "cell_type": "code",
   "execution_count": null,
   "metadata": {},
   "outputs": [],
   "source": [
    "err_df\n"
   ]
  },
  {
   "cell_type": "code",
   "execution_count": 39,
   "metadata": {},
   "outputs": [],
   "source": [
    "# # test on single link - link below throws an error\n",
    "\n",
    "# driver = webdriver.Chrome(executable_path='C:\\Program Files (x86)\\chromedriver_win32\\chromedriver.exe')\n",
    "# driver.get('https://yt5s.com/en14/youtube-to-mp3')\n",
    "\n",
    "# inputElement = driver.find_element_by_class_name(\"search__input\")\n",
    "# inputElement.send_keys('https://www.youtube.com/watch?v=-En6AAlOo7I')\n",
    "# inputElement.send_keys(Keys.ENTER)\n",
    "\n",
    "# time.sleep(3)\n",
    "\n",
    "# convertBtn = driver.find_elements_by_xpath('//*[@id=\"btn-action\"]')[0]\n",
    "# convertBtn.click()\n",
    "\n",
    "# time.sleep(2)\n",
    "\n",
    "# dlBtn = driver.find_elements_by_xpath('//*[@id=\"asuccess\"]')[0]\n",
    "# time.sleep(1)\n",
    "# dlBtn.click()\n",
    "\n",
    "# time.sleep(2)\n",
    "\n",
    "\n",
    "# driver.quit()"
   ]
  },
  {
   "cell_type": "code",
   "execution_count": null,
   "metadata": {},
   "outputs": [],
   "source": []
  }
 ],
 "metadata": {
  "kernelspec": {
   "display_name": "Python 3",
   "language": "python",
   "name": "python3"
  },
  "language_info": {
   "codemirror_mode": {
    "name": "ipython",
    "version": 3
   },
   "file_extension": ".py",
   "mimetype": "text/x-python",
   "name": "python",
   "nbconvert_exporter": "python",
   "pygments_lexer": "ipython3",
   "version": "3.6.10"
  }
 },
 "nbformat": 4,
 "nbformat_minor": 4
}
