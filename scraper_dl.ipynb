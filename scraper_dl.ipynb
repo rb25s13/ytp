{
 "cells": [
  {
   "cell_type": "code",
   "execution_count": 2,
   "metadata": {},
   "outputs": [],
   "source": [
    "import pandas as pd\n",
    "import requests\n",
    "from selenium import webdriver\n",
    "from selenium.webdriver.common.keys import Keys\n",
    "from selenium.webdriver.chrome.options import Options\n",
    "import time"
   ]
  },
  {
   "cell_type": "code",
   "execution_count": 16,
   "metadata": {},
   "outputs": [
    {
     "data": {
      "text/html": [
       "<div>\n",
       "<style scoped>\n",
       "    .dataframe tbody tr th:only-of-type {\n",
       "        vertical-align: middle;\n",
       "    }\n",
       "\n",
       "    .dataframe tbody tr th {\n",
       "        vertical-align: top;\n",
       "    }\n",
       "\n",
       "    .dataframe thead th {\n",
       "        text-align: right;\n",
       "    }\n",
       "</style>\n",
       "<table border=\"1\" class=\"dataframe\">\n",
       "  <thead>\n",
       "    <tr style=\"text-align: right;\">\n",
       "      <th></th>\n",
       "      <th>link</th>\n",
       "    </tr>\n",
       "  </thead>\n",
       "  <tbody>\n",
       "    <tr>\n",
       "      <th>0</th>\n",
       "      <td>https://www.youtube.com/watch?v=08aQVLAxdvQ&amp;li...</td>\n",
       "    </tr>\n",
       "    <tr>\n",
       "      <th>1</th>\n",
       "      <td>https://www.youtube.com/watch?v=8XM9VncUS4w&amp;li...</td>\n",
       "    </tr>\n",
       "  </tbody>\n",
       "</table>\n",
       "</div>"
      ],
      "text/plain": [
       "                                                link\n",
       "0  https://www.youtube.com/watch?v=08aQVLAxdvQ&li...\n",
       "1  https://www.youtube.com/watch?v=8XM9VncUS4w&li..."
      ]
     },
     "execution_count": 16,
     "metadata": {},
     "output_type": "execute_result"
    }
   ],
   "source": [
    "df = pd.read_csv('playlist.csv') # from get_links.py\n",
    "# df = df[df.index > 21] # test data set\n",
    "df = df.head(2) # test data set\n",
    "df = df.rename(columns={\"0\": \"link\"})\n",
    "df"
   ]
  },
  {
   "cell_type": "code",
   "execution_count": 26,
   "metadata": {},
   "outputs": [
    {
     "name": "stdout",
     "output_type": "stream",
     "text": [
      "success - 1 - [<selenium.webdriver.remote.webelement.WebElement (session=\"0edab1d81d447d4bb3528526a519b8f6\", element=\"85341eb0-1f4c-4bb3-a3d0-ccfd63b742a5\")>] - [<selenium.webdriver.remote.webelement.WebElement (session=\"0edab1d81d447d4bb3528526a519b8f6\", element=\"b926c65e-f7c9-4452-9cec-58e0888a8b82\")>]\n",
      "success - 2 - [<selenium.webdriver.remote.webelement.WebElement (session=\"2ff21402ae320f18b5d31c5054fcbdb6\", element=\"5282fee3-2fe9-430d-ab36-84a9a6359e23\")>] - [<selenium.webdriver.remote.webelement.WebElement (session=\"2ff21402ae320f18b5d31c5054fcbdb6\", element=\"64ff471b-b72d-49e7-bab9-7ffead719ce3\")>]\n"
     ]
    }
   ],
   "source": [
    "error_list = []\n",
    "title_list = []\n",
    "artist_list = []\n",
    "\n",
    "suc_count=1\n",
    "err_count=1\n",
    "for index, row in df.iterrows():\n",
    "    options = Options()\n",
    "    options.add_argument(\"--headless\")\n",
    "    prefs = {\"profile.default_content_settings.popups\": 0,\n",
    "                \"download.default_directory\": r\"F:\\Downloads\\\\\", # IMPORTANT - ENDING SLASH V IMPORTANT\n",
    "                \"directory_upgrade\": True}\n",
    "    options.add_experimental_option(\"prefs\", prefs)\n",
    "    driver = webdriver.Chrome(executable_path='C:\\Program Files (x86)\\chromedriver_win32\\chromedriver.exe', options=options)\n",
    "    driver.get('https://yt5s.com/en14/youtube-to-mp3')\n",
    "\n",
    "    inputElement = driver.find_element_by_class_name(\"search__input\")\n",
    "    inputElement.send_keys(row['link'])\n",
    "    inputElement.send_keys(Keys.ENTER)\n",
    "\n",
    "    time.sleep(3)\n",
    "\n",
    "    try:\n",
    "        convertBtn = driver.find_elements_by_xpath('//*[@id=\"btn-action\"]')[0]\n",
    "        convertBtn.click()\n",
    "        time.sleep(2)\n",
    "        dlBtn = driver.find_elements_by_xpath('//*[@id=\"asuccess\"]')[0]\n",
    "        time.sleep(1)\n",
    "        dlBtn.click()\n",
    "        songTitle = driver.find_elements_by_xpath('/html/body/div[1]/div[1]/div[2]/div/div/div/div/h3')\n",
    "        # songTitleT = songTitle.text\n",
    "        artistAlbum = driver.find_elements_by_xpath('/html/body/div[1]/div[1]/div[2]/div/div/div/div/p[1]')\n",
    "        # artistAlbumT = artistAlbum.text\n",
    "        time.sleep(2)\n",
    "        print(f'success - {suc_count} - {songTitle} - {artistAlbum}')\n",
    "        suc_count+=1\n",
    "    except:\n",
    "        error_list.append(row['link'])\n",
    "        print('error - check error_list.csv for link', err_count)\n",
    "        err_count+=1\n",
    "        pass\n",
    "\n",
    "time.sleep(20)\n",
    "driver.quit()\n",
    "err_df = pd.DataFrame(error_list)\n",
    "err_df.to_csv('error_list.csv', index=False)"
   ]
  },
  {
   "cell_type": "code",
   "execution_count": null,
   "metadata": {},
   "outputs": [],
   "source": [
    "## test on single link - link below throws an error\n",
    "\n",
    "driver = webdriver.Chrome(executable_path='C:\\Program Files (x86)\\chromedriver_win32\\chromedriver.exe')\n",
    "driver.get('https://yt5s.com/en14/youtube-to-mp3')\n",
    "\n",
    "inputElement = driver.find_element_by_class_name(\"search__input\")\n",
    "inputElement.send_keys('https://www.youtube.com/watch?v=jbhIFYVf8pA')\n",
    "inputElement.send_keys(Keys.ENTER)\n",
    "\n",
    "time.sleep(3)\n",
    "\n",
    "convertBtn = driver.find_elements_by_xpath('//*[@id=\"btn-action\"]')[0]\n",
    "convertBtn.click()\n",
    "\n",
    "time.sleep(2)\n",
    "\n",
    "dlBtn = driver.find_elements_by_xpath('//*[@id=\"asuccess\"]')[0]\n",
    "time.sleep(1)\n",
    "dlBtn.click()\n",
    "\n",
    "time.sleep(2)\n",
    "\n",
    "\n",
    "driver.quit()"
   ]
  },
  {
   "cell_type": "code",
   "execution_count": null,
   "metadata": {},
   "outputs": [],
   "source": []
  }
 ],
 "metadata": {
  "kernelspec": {
   "display_name": "Python 3",
   "language": "python",
   "name": "python3"
  },
  "language_info": {
   "codemirror_mode": {
    "name": "ipython",
    "version": 3
   },
   "file_extension": ".py",
   "mimetype": "text/x-python",
   "name": "python",
   "nbconvert_exporter": "python",
   "pygments_lexer": "ipython3",
   "version": "3.6.10"
  }
 },
 "nbformat": 4,
 "nbformat_minor": 4
}
